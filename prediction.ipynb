{
 "cells": [
  {
   "cell_type": "code",
   "execution_count": 1,
   "metadata": {},
   "outputs": [],
   "source": [
    "# Step 1: Import Libraries and Load the Model\n",
    "import numpy as np\n",
    "import tensorflow as tf\n",
    "from tensorflow.keras.datasets import imdb\n",
    "from tensorflow.keras.preprocessing import sequence\n",
    "from tensorflow.keras.models import load_model"
   ]
  },
  {
   "cell_type": "code",
   "execution_count": 2,
   "metadata": {},
   "outputs": [
    {
     "name": "stdout",
     "output_type": "stream",
     "text": [
      "Downloading data from https://storage.googleapis.com/tensorflow/tf-keras-datasets/imdb_word_index.json\n",
      "\u001b[1m1641221/1641221\u001b[0m \u001b[32m━━━━━━━━━━━━━━━━━━━━\u001b[0m\u001b[37m\u001b[0m \u001b[1m2s\u001b[0m 1us/step\n"
     ]
    }
   ],
   "source": [
    "\n",
    "# Load the IMDB dataset word index\n",
    "word_index = imdb.get_word_index()\n",
    "reverse_word_index = {value: key for key, value in word_index.items()}"
   ]
  },
  {
   "cell_type": "code",
   "execution_count": 3,
   "metadata": {},
   "outputs": [
    {
     "name": "stderr",
     "output_type": "stream",
     "text": [
      "WARNING:absl:Compiled the loaded model, but the compiled metrics have yet to be built. `model.compile_metrics` will be empty until you train or evaluate the model.\n"
     ]
    },
    {
     "data": {
      "text/html": [
       "<pre style=\"white-space:pre;overflow-x:auto;line-height:normal;font-family:Menlo,'DejaVu Sans Mono',consolas,'Courier New',monospace\"><span style=\"font-weight: bold\">Model: \"sequential\"</span>\n",
       "</pre>\n"
      ],
      "text/plain": [
       "\u001b[1mModel: \"sequential\"\u001b[0m\n"
      ]
     },
     "metadata": {},
     "output_type": "display_data"
    },
    {
     "data": {
      "text/html": [
       "<pre style=\"white-space:pre;overflow-x:auto;line-height:normal;font-family:Menlo,'DejaVu Sans Mono',consolas,'Courier New',monospace\">┏━━━━━━━━━━━━━━━━━━━━━━━━━━━━━━━━━┳━━━━━━━━━━━━━━━━━━━━━━━━┳━━━━━━━━━━━━━━━┓\n",
       "┃<span style=\"font-weight: bold\"> Layer (type)                    </span>┃<span style=\"font-weight: bold\"> Output Shape           </span>┃<span style=\"font-weight: bold\">       Param # </span>┃\n",
       "┡━━━━━━━━━━━━━━━━━━━━━━━━━━━━━━━━━╇━━━━━━━━━━━━━━━━━━━━━━━━╇━━━━━━━━━━━━━━━┩\n",
       "│ embedding (<span style=\"color: #0087ff; text-decoration-color: #0087ff\">Embedding</span>)           │ (<span style=\"color: #00af00; text-decoration-color: #00af00\">32</span>, <span style=\"color: #00af00; text-decoration-color: #00af00\">500</span>, <span style=\"color: #00af00; text-decoration-color: #00af00\">128</span>)         │     <span style=\"color: #00af00; text-decoration-color: #00af00\">1,280,000</span> │\n",
       "├─────────────────────────────────┼────────────────────────┼───────────────┤\n",
       "│ simple_rnn (<span style=\"color: #0087ff; text-decoration-color: #0087ff\">SimpleRNN</span>)          │ (<span style=\"color: #00af00; text-decoration-color: #00af00\">32</span>, <span style=\"color: #00af00; text-decoration-color: #00af00\">128</span>)              │        <span style=\"color: #00af00; text-decoration-color: #00af00\">32,896</span> │\n",
       "├─────────────────────────────────┼────────────────────────┼───────────────┤\n",
       "│ dense (<span style=\"color: #0087ff; text-decoration-color: #0087ff\">Dense</span>)                   │ (<span style=\"color: #00af00; text-decoration-color: #00af00\">32</span>, <span style=\"color: #00af00; text-decoration-color: #00af00\">1</span>)                │           <span style=\"color: #00af00; text-decoration-color: #00af00\">129</span> │\n",
       "└─────────────────────────────────┴────────────────────────┴───────────────┘\n",
       "</pre>\n"
      ],
      "text/plain": [
       "┏━━━━━━━━━━━━━━━━━━━━━━━━━━━━━━━━━┳━━━━━━━━━━━━━━━━━━━━━━━━┳━━━━━━━━━━━━━━━┓\n",
       "┃\u001b[1m \u001b[0m\u001b[1mLayer (type)                   \u001b[0m\u001b[1m \u001b[0m┃\u001b[1m \u001b[0m\u001b[1mOutput Shape          \u001b[0m\u001b[1m \u001b[0m┃\u001b[1m \u001b[0m\u001b[1m      Param #\u001b[0m\u001b[1m \u001b[0m┃\n",
       "┡━━━━━━━━━━━━━━━━━━━━━━━━━━━━━━━━━╇━━━━━━━━━━━━━━━━━━━━━━━━╇━━━━━━━━━━━━━━━┩\n",
       "│ embedding (\u001b[38;5;33mEmbedding\u001b[0m)           │ (\u001b[38;5;34m32\u001b[0m, \u001b[38;5;34m500\u001b[0m, \u001b[38;5;34m128\u001b[0m)         │     \u001b[38;5;34m1,280,000\u001b[0m │\n",
       "├─────────────────────────────────┼────────────────────────┼───────────────┤\n",
       "│ simple_rnn (\u001b[38;5;33mSimpleRNN\u001b[0m)          │ (\u001b[38;5;34m32\u001b[0m, \u001b[38;5;34m128\u001b[0m)              │        \u001b[38;5;34m32,896\u001b[0m │\n",
       "├─────────────────────────────────┼────────────────────────┼───────────────┤\n",
       "│ dense (\u001b[38;5;33mDense\u001b[0m)                   │ (\u001b[38;5;34m32\u001b[0m, \u001b[38;5;34m1\u001b[0m)                │           \u001b[38;5;34m129\u001b[0m │\n",
       "└─────────────────────────────────┴────────────────────────┴───────────────┘\n"
      ]
     },
     "metadata": {},
     "output_type": "display_data"
    },
    {
     "data": {
      "text/html": [
       "<pre style=\"white-space:pre;overflow-x:auto;line-height:normal;font-family:Menlo,'DejaVu Sans Mono',consolas,'Courier New',monospace\"><span style=\"font-weight: bold\"> Total params: </span><span style=\"color: #00af00; text-decoration-color: #00af00\">1,313,027</span> (5.01 MB)\n",
       "</pre>\n"
      ],
      "text/plain": [
       "\u001b[1m Total params: \u001b[0m\u001b[38;5;34m1,313,027\u001b[0m (5.01 MB)\n"
      ]
     },
     "metadata": {},
     "output_type": "display_data"
    },
    {
     "data": {
      "text/html": [
       "<pre style=\"white-space:pre;overflow-x:auto;line-height:normal;font-family:Menlo,'DejaVu Sans Mono',consolas,'Courier New',monospace\"><span style=\"font-weight: bold\"> Trainable params: </span><span style=\"color: #00af00; text-decoration-color: #00af00\">1,313,025</span> (5.01 MB)\n",
       "</pre>\n"
      ],
      "text/plain": [
       "\u001b[1m Trainable params: \u001b[0m\u001b[38;5;34m1,313,025\u001b[0m (5.01 MB)\n"
      ]
     },
     "metadata": {},
     "output_type": "display_data"
    },
    {
     "data": {
      "text/html": [
       "<pre style=\"white-space:pre;overflow-x:auto;line-height:normal;font-family:Menlo,'DejaVu Sans Mono',consolas,'Courier New',monospace\"><span style=\"font-weight: bold\"> Non-trainable params: </span><span style=\"color: #00af00; text-decoration-color: #00af00\">0</span> (0.00 B)\n",
       "</pre>\n"
      ],
      "text/plain": [
       "\u001b[1m Non-trainable params: \u001b[0m\u001b[38;5;34m0\u001b[0m (0.00 B)\n"
      ]
     },
     "metadata": {},
     "output_type": "display_data"
    },
    {
     "data": {
      "text/html": [
       "<pre style=\"white-space:pre;overflow-x:auto;line-height:normal;font-family:Menlo,'DejaVu Sans Mono',consolas,'Courier New',monospace\"><span style=\"font-weight: bold\"> Optimizer params: </span><span style=\"color: #00af00; text-decoration-color: #00af00\">2</span> (12.00 B)\n",
       "</pre>\n"
      ],
      "text/plain": [
       "\u001b[1m Optimizer params: \u001b[0m\u001b[38;5;34m2\u001b[0m (12.00 B)\n"
      ]
     },
     "metadata": {},
     "output_type": "display_data"
    }
   ],
   "source": [
    "# Load the pre-trained model with ReLU activation\n",
    "model = load_model('simple_rnn_imdb.h5')\n",
    "model.summary()"
   ]
  },
  {
   "cell_type": "code",
   "execution_count": 4,
   "metadata": {},
   "outputs": [
    {
     "data": {
      "text/plain": [
       "[array([[-0.50242907,  0.6128917 , -0.6090269 , ...,  0.4848819 ,\n",
       "          0.5459174 , -0.5184705 ],\n",
       "        [-0.00128366, -0.01438493, -0.10473257, ...,  0.04409907,\n",
       "          0.04803967, -0.02035341],\n",
       "        [-0.0379823 ,  0.0351866 , -0.13949679, ...,  0.00990094,\n",
       "          0.10141709, -0.1554885 ],\n",
       "        ...,\n",
       "        [-0.02071105, -0.06975259,  0.00338543, ...,  0.06133429,\n",
       "          0.00209424, -0.04245172],\n",
       "        [ 0.03247909,  0.04388432, -0.05396716, ..., -0.06102205,\n",
       "          0.07847687,  0.03464331],\n",
       "        [-0.02867622, -0.04223265,  0.0080824 , ...,  0.11615774,\n",
       "         -0.07264467, -0.08040486]], dtype=float32),\n",
       " array([[ 0.14705136,  0.03548928, -0.17525947, ...,  0.05308931,\n",
       "         -0.07435346, -0.0987327 ],\n",
       "        [ 0.09745043,  0.02985111,  0.00527646, ...,  0.06318937,\n",
       "          0.00990716, -0.01517194],\n",
       "        [ 0.08491062,  0.14895847, -0.14491092, ..., -0.11336657,\n",
       "          0.17599691,  0.10232072],\n",
       "        ...,\n",
       "        [ 0.10555413, -0.03358778,  0.00253085, ...,  0.03632364,\n",
       "         -0.01431257,  0.02640526],\n",
       "        [ 0.01320921, -0.10498337, -0.02282322, ..., -0.03376434,\n",
       "          0.09690368,  0.04047475],\n",
       "        [ 0.17917934,  0.01015547, -0.10142974, ..., -0.01512976,\n",
       "         -0.03649383,  0.00688757]], dtype=float32),\n",
       " array([[ 0.04032767,  0.18327905,  0.0121937 , ..., -0.0509518 ,\n",
       "          0.10142912, -0.06378068],\n",
       "        [-0.0051061 ,  0.01098885, -0.13945438, ..., -0.15377276,\n",
       "         -0.06793343,  0.01154584],\n",
       "        [-0.08716878,  0.00230295,  0.05506049, ..., -0.00605877,\n",
       "          0.07755039,  0.13886464],\n",
       "        ...,\n",
       "        [-0.20307872,  0.15756693,  0.02220513, ..., -0.03388792,\n",
       "          0.04947323, -0.02471426],\n",
       "        [-0.23556857, -0.02653257, -0.02568054, ..., -0.03029621,\n",
       "          0.07365073, -0.03532632],\n",
       "        [-0.03705961, -0.02442181, -0.11194889, ..., -0.00580487,\n",
       "         -0.07533935, -0.09317992]], dtype=float32),\n",
       " array([ 3.2426002e-03,  9.6515846e-03,  2.6203809e-02, -2.6137795e-02,\n",
       "        -6.0248454e-03,  1.3753241e-02, -1.7583380e-02,  1.3052529e-01,\n",
       "        -9.7938459e-03,  2.4255304e-02, -2.3437863e-02, -1.0412040e-02,\n",
       "        -7.6453816e-03, -1.3949314e-02,  1.5856691e-02, -2.6353920e-02,\n",
       "         1.7348892e-03, -2.2107575e-03, -1.3743760e-02,  1.2086402e-02,\n",
       "         4.2109616e-02,  3.7198871e-02, -1.9436574e-02, -1.1067237e-02,\n",
       "         1.1160861e-02, -3.4511376e-02,  8.9010419e-03,  4.3931294e-02,\n",
       "        -1.8581307e-02, -2.0454956e-02, -4.8476635e-03, -2.5422171e-02,\n",
       "        -1.9956818e-02, -1.5000581e-02, -3.4132868e-02, -1.9470071e-02,\n",
       "         5.8791260e-03,  3.4550540e-03, -6.9151999e-04, -2.5946150e-02,\n",
       "         3.5356276e-03,  8.0331946e-03,  4.0758621e-02, -8.9420173e-03,\n",
       "         6.7113694e-03,  1.3598807e-03, -1.2800868e-02,  5.6448444e-03,\n",
       "        -1.7525317e-02, -1.8238189e-02, -3.7833139e-05, -4.5464151e-03,\n",
       "        -4.6570282e-03,  3.0649044e-03, -3.1516533e-02,  8.3076926e-03,\n",
       "        -3.8274091e-02, -2.0069822e-03, -2.1301286e-02, -1.5710443e-02,\n",
       "        -3.4729499e-02, -1.6247315e-02,  8.9305546e-03, -8.4638400e-03,\n",
       "         1.1715609e-02,  5.9991546e-02, -1.2440083e-03,  2.0361094e-02,\n",
       "        -1.1542819e-02,  2.7502105e-02, -6.6122250e-04,  2.4172692e-02,\n",
       "        -1.7216142e-02, -2.4890270e-02,  6.0607787e-02,  1.3536695e-02,\n",
       "        -3.1647436e-02, -1.3302384e-02,  4.4373786e-03,  6.7959339e-03,\n",
       "         1.8515613e-02, -4.2453304e-02, -4.2750925e-02,  1.8472914e-02,\n",
       "        -9.5943362e-03, -1.4286244e-02,  9.0850471e-03,  2.8825413e-02,\n",
       "        -1.3791045e-02,  2.4640711e-02,  1.5215831e-02, -2.3707684e-02,\n",
       "        -7.6039456e-02,  3.1678081e-03,  3.0624216e-02, -2.2830712e-02,\n",
       "        -1.9434366e-02, -3.7959658e-02, -1.9572977e-02, -3.3308923e-02,\n",
       "         3.7408929e-02,  6.7806221e-03,  2.7325546e-02,  1.3926912e-02,\n",
       "        -2.8895093e-02, -2.4219634e-02, -6.0749473e-03, -6.2925331e-03,\n",
       "         7.7793053e-03, -1.1858982e-02, -1.0670736e-02,  1.0190185e-02,\n",
       "        -2.9395228e-02, -3.2446388e-02,  2.7095081e-02, -2.0427732e-02,\n",
       "        -9.3871830e-03, -3.9041251e-02, -2.1962274e-02, -9.1845738e-03,\n",
       "         1.6219357e-02,  2.4742486e-02,  4.0705437e-03,  1.2848778e-02,\n",
       "        -1.6003884e-02,  1.4764682e-03, -2.8617514e-02, -3.8583621e-02],\n",
       "       dtype=float32),\n",
       " array([[-0.18682112],\n",
       "        [-0.21024118],\n",
       "        [ 0.05117244],\n",
       "        [-0.10683747],\n",
       "        [ 0.13553211],\n",
       "        [ 0.07186321],\n",
       "        [-0.07547851],\n",
       "        [-0.3387953 ],\n",
       "        [-0.10995877],\n",
       "        [-0.17109944],\n",
       "        [-0.08328946],\n",
       "        [-0.19652033],\n",
       "        [-0.12804037],\n",
       "        [ 0.13270439],\n",
       "        [-0.04358711],\n",
       "        [ 0.45954287],\n",
       "        [-0.10711652],\n",
       "        [-0.1735731 ],\n",
       "        [-0.09723744],\n",
       "        [-0.084367  ],\n",
       "        [-0.04556742],\n",
       "        [ 0.12692815],\n",
       "        [-0.05110252],\n",
       "        [ 0.10997055],\n",
       "        [-0.3762911 ],\n",
       "        [-0.03945085],\n",
       "        [-0.131621  ],\n",
       "        [-0.09561808],\n",
       "        [ 0.04555626],\n",
       "        [-0.02616666],\n",
       "        [ 0.07174341],\n",
       "        [-0.12402182],\n",
       "        [ 0.23363386],\n",
       "        [ 0.07827505],\n",
       "        [-0.1488824 ],\n",
       "        [ 0.08596171],\n",
       "        [-0.04498214],\n",
       "        [-0.19429083],\n",
       "        [ 0.23126787],\n",
       "        [-0.02299565],\n",
       "        [ 0.00628309],\n",
       "        [-0.15781175],\n",
       "        [-0.06357108],\n",
       "        [-0.04608999],\n",
       "        [ 0.14620592],\n",
       "        [-0.2290843 ],\n",
       "        [ 0.07172263],\n",
       "        [-0.08028076],\n",
       "        [-0.03291698],\n",
       "        [-0.01640093],\n",
       "        [ 0.48784855],\n",
       "        [ 0.14438944],\n",
       "        [-0.06227864],\n",
       "        [-0.07969704],\n",
       "        [ 0.17059563],\n",
       "        [ 0.03249743],\n",
       "        [-0.01798937],\n",
       "        [-0.22702718],\n",
       "        [ 0.01352969],\n",
       "        [-0.13232005],\n",
       "        [ 0.02902704],\n",
       "        [-0.11571159],\n",
       "        [ 0.0091183 ],\n",
       "        [ 0.02848899],\n",
       "        [-0.3242979 ],\n",
       "        [ 0.09964898],\n",
       "        [-0.13204508],\n",
       "        [-0.16008677],\n",
       "        [ 0.12283277],\n",
       "        [-0.09091204],\n",
       "        [-0.06399223],\n",
       "        [ 0.10866709],\n",
       "        [-0.10498629],\n",
       "        [-0.12815087],\n",
       "        [-0.12336752],\n",
       "        [-0.36906496],\n",
       "        [-0.16237341],\n",
       "        [-0.05690119],\n",
       "        [-0.04106358],\n",
       "        [-0.2245679 ],\n",
       "        [ 0.05807552],\n",
       "        [ 0.06803254],\n",
       "        [ 0.12026913],\n",
       "        [ 0.10398626],\n",
       "        [ 0.13086796],\n",
       "        [ 0.18330278],\n",
       "        [ 0.09922814],\n",
       "        [-0.16115075],\n",
       "        [-0.1611692 ],\n",
       "        [-0.01851183],\n",
       "        [ 0.03912805],\n",
       "        [-0.18358913],\n",
       "        [ 0.12535661],\n",
       "        [ 0.00702424],\n",
       "        [-0.099406  ],\n",
       "        [-0.1905317 ],\n",
       "        [-0.18169194],\n",
       "        [-0.14073157],\n",
       "        [ 0.07075844],\n",
       "        [ 0.00480067],\n",
       "        [ 0.12002312],\n",
       "        [-0.05269532],\n",
       "        [ 0.00523805],\n",
       "        [-0.03554679],\n",
       "        [-0.15634516],\n",
       "        [-0.2653279 ],\n",
       "        [-0.03593608],\n",
       "        [-0.12888375],\n",
       "        [-0.0732893 ],\n",
       "        [-0.17811003],\n",
       "        [-0.19626875],\n",
       "        [-0.13307124],\n",
       "        [-0.220102  ],\n",
       "        [-0.03853336],\n",
       "        [ 0.20759566],\n",
       "        [-0.07783605],\n",
       "        [-0.22735296],\n",
       "        [-0.07082122],\n",
       "        [ 0.12867242],\n",
       "        [ 0.04886216],\n",
       "        [ 0.0148008 ],\n",
       "        [ 0.03318914],\n",
       "        [-0.04868954],\n",
       "        [ 0.01483776],\n",
       "        [ 0.0495287 ],\n",
       "        [ 0.56043017],\n",
       "        [-0.22048238],\n",
       "        [ 0.1790327 ]], dtype=float32),\n",
       " array([-0.3244133], dtype=float32)]"
      ]
     },
     "execution_count": 4,
     "metadata": {},
     "output_type": "execute_result"
    }
   ],
   "source": [
    "model.get_weights()"
   ]
  },
  {
   "cell_type": "code",
   "execution_count": 5,
   "metadata": {},
   "outputs": [],
   "source": [
    "# Step 2: Helper Functions\n",
    "# Function to decode reviews\n",
    "def decode_review(encoded_review):\n",
    "    return ' '.join([reverse_word_index.get(i - 3, '?') for i in encoded_review])\n",
    "\n",
    "# Function to preprocess user input\n",
    "def preprocess_text(text):\n",
    "    words = text.lower().split()\n",
    "    encoded_review = [word_index.get(word, 2) + 3 for word in words]\n",
    "    padded_review = sequence.pad_sequences([encoded_review], maxlen=500)\n",
    "    return padded_review"
   ]
  },
  {
   "cell_type": "code",
   "execution_count": 6,
   "metadata": {},
   "outputs": [],
   "source": [
    "### Prediction  function\n",
    "\n",
    "def predict_sentiment(review):\n",
    "    preprocessed_input=preprocess_text(review)\n",
    "\n",
    "    prediction=model.predict(preprocessed_input)\n",
    "\n",
    "    sentiment = 'Positive' if prediction[0][0] > 0.5 else 'Negative'\n",
    "    \n",
    "    return sentiment, prediction[0][0]\n",
    "\n"
   ]
  },
  {
   "cell_type": "code",
   "execution_count": 7,
   "metadata": {},
   "outputs": [
    {
     "name": "stdout",
     "output_type": "stream",
     "text": [
      "\u001b[1m1/1\u001b[0m \u001b[32m━━━━━━━━━━━━━━━━━━━━\u001b[0m\u001b[37m\u001b[0m \u001b[1m0s\u001b[0m 220ms/step\n",
      "Review: This movie was fantastic! The acting was great and the plot was thrilling.\n",
      "Sentiment: Positive\n",
      "Prediction Score: 0.9027338624000549\n"
     ]
    }
   ],
   "source": [
    "# Step 4: User Input and Prediction\n",
    "# Example review for prediction\n",
    "example_review = \"This movie was fantastic! The acting was great and the plot was thrilling.\"\n",
    "\n",
    "sentiment,score=predict_sentiment(example_review)\n",
    "\n",
    "print(f'Review: {example_review}')\n",
    "print(f'Sentiment: {sentiment}')\n",
    "print(f'Prediction Score: {score}')"
   ]
  },
  {
   "cell_type": "code",
   "execution_count": null,
   "metadata": {},
   "outputs": [],
   "source": []
  },
  {
   "cell_type": "code",
   "execution_count": null,
   "metadata": {},
   "outputs": [],
   "source": []
  },
  {
   "cell_type": "code",
   "execution_count": null,
   "metadata": {},
   "outputs": [],
   "source": []
  },
  {
   "cell_type": "code",
   "execution_count": null,
   "metadata": {},
   "outputs": [],
   "source": []
  }
 ],
 "metadata": {
  "kernelspec": {
   "display_name": "Python 3",
   "language": "python",
   "name": "python3"
  },
  "language_info": {
   "codemirror_mode": {
    "name": "ipython",
    "version": 3
   },
   "file_extension": ".py",
   "mimetype": "text/x-python",
   "name": "python",
   "nbconvert_exporter": "python",
   "pygments_lexer": "ipython3",
   "version": "3.11.11"
  }
 },
 "nbformat": 4,
 "nbformat_minor": 2
}
