{
  "nbformat": 4,
  "nbformat_minor": 0,
  "metadata": {
    "colab": {
      "provenance": []
    },
    "kernelspec": {
      "name": "python3",
      "display_name": "Python 3"
    },
    "language_info": {
      "name": "python"
    }
  },
  "cells": [
    {
      "cell_type": "code",
      "execution_count": 2,
      "metadata": {
        "id": "QLoGbtGcsLPr"
      },
      "outputs": [],
      "source": [
        "from tensorflow.keras.preprocessing.text import one_hot"
      ]
    },
    {
      "cell_type": "code",
      "source": [
        "sent=['the glass of milk',\n",
        "      'the cup of tea',\n",
        "      'I am a good boy',\n",
        "      'I am a good developer',\n",
        "      'understanding the meaning of words',\n",
        "      'your videos are good',]"
      ],
      "metadata": {
        "id": "ZIniQ5wxsmwh"
      },
      "execution_count": 4,
      "outputs": []
    },
    {
      "cell_type": "code",
      "source": [
        "voc_size=10000"
      ],
      "metadata": {
        "id": "pxevZeXCtM9K"
      },
      "execution_count": 5,
      "outputs": []
    },
    {
      "cell_type": "code",
      "source": [
        "one_hot_repr=[one_hot(words,voc_size)for words in sent]\n",
        "one_hot_repr"
      ],
      "metadata": {
        "colab": {
          "base_uri": "https://localhost:8080/"
        },
        "id": "lk_aNWlVtXrN",
        "outputId": "ab40210b-faa5-4ff9-9e5d-457458f4f96d"
      },
      "execution_count": 6,
      "outputs": [
        {
          "output_type": "execute_result",
          "data": {
            "text/plain": [
              "[[8866, 8353, 4847, 9981],\n",
              " [8866, 6321, 4847, 8717],\n",
              " [9464, 4030, 9051, 7509, 376],\n",
              " [9464, 4030, 9051, 7509, 7837],\n",
              " [2700, 8866, 1239, 4847, 4125],\n",
              " [3375, 3730, 2759, 7509]]"
            ]
          },
          "metadata": {},
          "execution_count": 6
        }
      ]
    },
    {
      "cell_type": "code",
      "source": [
        "from tensorflow.keras.layers import Embedding\n",
        "from tensorflow.keras.utils import pad_sequences\n",
        "from tensorflow.keras.models import Sequential"
      ],
      "metadata": {
        "id": "EEN-BJNgtxSk"
      },
      "execution_count": 8,
      "outputs": []
    },
    {
      "cell_type": "code",
      "source": [
        "import numpy as np"
      ],
      "metadata": {
        "id": "AdobouuxvBEU"
      },
      "execution_count": 9,
      "outputs": []
    },
    {
      "cell_type": "code",
      "source": [
        "sent_length=8\n",
        "embedded_docs=pad_sequences(one_hot_repr,padding='pre',maxlen=sent_length)\n",
        "print(embedded_docs)"
      ],
      "metadata": {
        "colab": {
          "base_uri": "https://localhost:8080/"
        },
        "id": "hG7CbX1kvpit",
        "outputId": "b3c4ea8f-21d0-474e-e135-7f4dff193702"
      },
      "execution_count": 10,
      "outputs": [
        {
          "output_type": "stream",
          "name": "stdout",
          "text": [
            "[[   0    0    0    0 8866 8353 4847 9981]\n",
            " [   0    0    0    0 8866 6321 4847 8717]\n",
            " [   0    0    0 9464 4030 9051 7509  376]\n",
            " [   0    0    0 9464 4030 9051 7509 7837]\n",
            " [   0    0    0 2700 8866 1239 4847 4125]\n",
            " [   0    0    0    0 3375 3730 2759 7509]]\n"
          ]
        }
      ]
    },
    {
      "cell_type": "code",
      "source": [
        "dim =10\n"
      ],
      "metadata": {
        "id": "AZhDqhecwEcY"
      },
      "execution_count": 11,
      "outputs": []
    },
    {
      "cell_type": "code",
      "source": [
        "model=Sequential()\n",
        "model.add(Embedding(voc_size,dim,input_length=sent_length))\n",
        "model.compile('adam','mse')"
      ],
      "metadata": {
        "colab": {
          "base_uri": "https://localhost:8080/"
        },
        "id": "JjEgVwmEwRkf",
        "outputId": "b8e4bbf2-8d51-44db-f616-37b907d9f72f"
      },
      "execution_count": 15,
      "outputs": [
        {
          "output_type": "stream",
          "name": "stderr",
          "text": [
            "/usr/local/lib/python3.11/dist-packages/keras/src/layers/core/embedding.py:90: UserWarning: Argument `input_length` is deprecated. Just remove it.\n",
            "  warnings.warn(\n"
          ]
        }
      ]
    },
    {
      "cell_type": "code",
      "source": [
        "model.summary()"
      ],
      "metadata": {
        "colab": {
          "base_uri": "https://localhost:8080/",
          "height": 178
        },
        "id": "u9JFl6nuwidS",
        "outputId": "e1a93ce4-ab4b-40e9-8b25-db65d27deefc"
      },
      "execution_count": 16,
      "outputs": [
        {
          "output_type": "display_data",
          "data": {
            "text/plain": [
              "\u001b[1mModel: \"sequential_2\"\u001b[0m\n"
            ],
            "text/html": [
              "<pre style=\"white-space:pre;overflow-x:auto;line-height:normal;font-family:Menlo,'DejaVu Sans Mono',consolas,'Courier New',monospace\"><span style=\"font-weight: bold\">Model: \"sequential_2\"</span>\n",
              "</pre>\n"
            ]
          },
          "metadata": {}
        },
        {
          "output_type": "display_data",
          "data": {
            "text/plain": [
              "┏━━━━━━━━━━━━━━━━━━━━━━━━━━━━━━━━━━━━━━┳━━━━━━━━━━━━━━━━━━━━━━━━━━━━━┳━━━━━━━━━━━━━━━━━┓\n",
              "┃\u001b[1m \u001b[0m\u001b[1mLayer (type)                        \u001b[0m\u001b[1m \u001b[0m┃\u001b[1m \u001b[0m\u001b[1mOutput Shape               \u001b[0m\u001b[1m \u001b[0m┃\u001b[1m \u001b[0m\u001b[1m        Param #\u001b[0m\u001b[1m \u001b[0m┃\n",
              "┡━━━━━━━━━━━━━━━━━━━━━━━━━━━━━━━━━━━━━━╇━━━━━━━━━━━━━━━━━━━━━━━━━━━━━╇━━━━━━━━━━━━━━━━━┩\n",
              "│ embedding_1 (\u001b[38;5;33mEmbedding\u001b[0m)              │ ?                           │     \u001b[38;5;34m0\u001b[0m (unbuilt) │\n",
              "└──────────────────────────────────────┴─────────────────────────────┴─────────────────┘\n"
            ],
            "text/html": [
              "<pre style=\"white-space:pre;overflow-x:auto;line-height:normal;font-family:Menlo,'DejaVu Sans Mono',consolas,'Courier New',monospace\">┏━━━━━━━━━━━━━━━━━━━━━━━━━━━━━━━━━━━━━━┳━━━━━━━━━━━━━━━━━━━━━━━━━━━━━┳━━━━━━━━━━━━━━━━━┓\n",
              "┃<span style=\"font-weight: bold\"> Layer (type)                         </span>┃<span style=\"font-weight: bold\"> Output Shape                </span>┃<span style=\"font-weight: bold\">         Param # </span>┃\n",
              "┡━━━━━━━━━━━━━━━━━━━━━━━━━━━━━━━━━━━━━━╇━━━━━━━━━━━━━━━━━━━━━━━━━━━━━╇━━━━━━━━━━━━━━━━━┩\n",
              "│ embedding_1 (<span style=\"color: #0087ff; text-decoration-color: #0087ff\">Embedding</span>)              │ ?                           │     <span style=\"color: #00af00; text-decoration-color: #00af00\">0</span> (unbuilt) │\n",
              "└──────────────────────────────────────┴─────────────────────────────┴─────────────────┘\n",
              "</pre>\n"
            ]
          },
          "metadata": {}
        },
        {
          "output_type": "display_data",
          "data": {
            "text/plain": [
              "\u001b[1m Total params: \u001b[0m\u001b[38;5;34m0\u001b[0m (0.00 B)\n"
            ],
            "text/html": [
              "<pre style=\"white-space:pre;overflow-x:auto;line-height:normal;font-family:Menlo,'DejaVu Sans Mono',consolas,'Courier New',monospace\"><span style=\"font-weight: bold\"> Total params: </span><span style=\"color: #00af00; text-decoration-color: #00af00\">0</span> (0.00 B)\n",
              "</pre>\n"
            ]
          },
          "metadata": {}
        },
        {
          "output_type": "display_data",
          "data": {
            "text/plain": [
              "\u001b[1m Trainable params: \u001b[0m\u001b[38;5;34m0\u001b[0m (0.00 B)\n"
            ],
            "text/html": [
              "<pre style=\"white-space:pre;overflow-x:auto;line-height:normal;font-family:Menlo,'DejaVu Sans Mono',consolas,'Courier New',monospace\"><span style=\"font-weight: bold\"> Trainable params: </span><span style=\"color: #00af00; text-decoration-color: #00af00\">0</span> (0.00 B)\n",
              "</pre>\n"
            ]
          },
          "metadata": {}
        },
        {
          "output_type": "display_data",
          "data": {
            "text/plain": [
              "\u001b[1m Non-trainable params: \u001b[0m\u001b[38;5;34m0\u001b[0m (0.00 B)\n"
            ],
            "text/html": [
              "<pre style=\"white-space:pre;overflow-x:auto;line-height:normal;font-family:Menlo,'DejaVu Sans Mono',consolas,'Courier New',monospace\"><span style=\"font-weight: bold\"> Non-trainable params: </span><span style=\"color: #00af00; text-decoration-color: #00af00\">0</span> (0.00 B)\n",
              "</pre>\n"
            ]
          },
          "metadata": {}
        }
      ]
    },
    {
      "cell_type": "code",
      "source": [
        "model.predict(embedded_docs)"
      ],
      "metadata": {
        "colab": {
          "base_uri": "https://localhost:8080/"
        },
        "id": "PE4-LOUfwkCr",
        "outputId": "6ea072d6-92c6-4b5c-8c82-95731a4a8f5e"
      },
      "execution_count": 17,
      "outputs": [
        {
          "output_type": "stream",
          "name": "stdout",
          "text": [
            "\u001b[1m1/1\u001b[0m \u001b[32m━━━━━━━━━━━━━━━━━━━━\u001b[0m\u001b[37m\u001b[0m \u001b[1m0s\u001b[0m 395ms/step\n"
          ]
        },
        {
          "output_type": "execute_result",
          "data": {
            "text/plain": [
              "array([[[ 0.0137111 , -0.04985014, -0.01245616, -0.04843792,\n",
              "          0.03277585,  0.00911633, -0.04752873, -0.0098277 ,\n",
              "          0.03213215,  0.03645244],\n",
              "        [ 0.0137111 , -0.04985014, -0.01245616, -0.04843792,\n",
              "          0.03277585,  0.00911633, -0.04752873, -0.0098277 ,\n",
              "          0.03213215,  0.03645244],\n",
              "        [ 0.0137111 , -0.04985014, -0.01245616, -0.04843792,\n",
              "          0.03277585,  0.00911633, -0.04752873, -0.0098277 ,\n",
              "          0.03213215,  0.03645244],\n",
              "        [ 0.0137111 , -0.04985014, -0.01245616, -0.04843792,\n",
              "          0.03277585,  0.00911633, -0.04752873, -0.0098277 ,\n",
              "          0.03213215,  0.03645244],\n",
              "        [ 0.0343903 ,  0.02322705,  0.04104709, -0.04440302,\n",
              "         -0.03558799, -0.00746635, -0.00781729, -0.04764522,\n",
              "          0.03636858, -0.01888352],\n",
              "        [ 0.00410395, -0.03842528,  0.03856726, -0.00915922,\n",
              "          0.01186801,  0.02961684,  0.00745617, -0.0101946 ,\n",
              "          0.01598073,  0.01409734],\n",
              "        [-0.0053219 , -0.0219555 , -0.0458238 , -0.03767868,\n",
              "          0.02272347, -0.04596689, -0.01097465,  0.04035309,\n",
              "          0.00307038,  0.00175681],\n",
              "        [ 0.02249762, -0.01859115, -0.04288539,  0.04463551,\n",
              "         -0.04289426, -0.01086969,  0.00776951, -0.00439514,\n",
              "         -0.0413583 , -0.01087525]],\n",
              "\n",
              "       [[ 0.0137111 , -0.04985014, -0.01245616, -0.04843792,\n",
              "          0.03277585,  0.00911633, -0.04752873, -0.0098277 ,\n",
              "          0.03213215,  0.03645244],\n",
              "        [ 0.0137111 , -0.04985014, -0.01245616, -0.04843792,\n",
              "          0.03277585,  0.00911633, -0.04752873, -0.0098277 ,\n",
              "          0.03213215,  0.03645244],\n",
              "        [ 0.0137111 , -0.04985014, -0.01245616, -0.04843792,\n",
              "          0.03277585,  0.00911633, -0.04752873, -0.0098277 ,\n",
              "          0.03213215,  0.03645244],\n",
              "        [ 0.0137111 , -0.04985014, -0.01245616, -0.04843792,\n",
              "          0.03277585,  0.00911633, -0.04752873, -0.0098277 ,\n",
              "          0.03213215,  0.03645244],\n",
              "        [ 0.0343903 ,  0.02322705,  0.04104709, -0.04440302,\n",
              "         -0.03558799, -0.00746635, -0.00781729, -0.04764522,\n",
              "          0.03636858, -0.01888352],\n",
              "        [-0.00257206, -0.0089251 , -0.03878379,  0.02365395,\n",
              "         -0.0278321 , -0.00619407, -0.0012617 ,  0.01638904,\n",
              "          0.00964022, -0.01618417],\n",
              "        [-0.0053219 , -0.0219555 , -0.0458238 , -0.03767868,\n",
              "          0.02272347, -0.04596689, -0.01097465,  0.04035309,\n",
              "          0.00307038,  0.00175681],\n",
              "        [-0.01468473,  0.02951096,  0.01868781, -0.01076657,\n",
              "         -0.00120323, -0.04089472,  0.02246385, -0.0216562 ,\n",
              "         -0.0036879 ,  0.02649561]],\n",
              "\n",
              "       [[ 0.0137111 , -0.04985014, -0.01245616, -0.04843792,\n",
              "          0.03277585,  0.00911633, -0.04752873, -0.0098277 ,\n",
              "          0.03213215,  0.03645244],\n",
              "        [ 0.0137111 , -0.04985014, -0.01245616, -0.04843792,\n",
              "          0.03277585,  0.00911633, -0.04752873, -0.0098277 ,\n",
              "          0.03213215,  0.03645244],\n",
              "        [ 0.0137111 , -0.04985014, -0.01245616, -0.04843792,\n",
              "          0.03277585,  0.00911633, -0.04752873, -0.0098277 ,\n",
              "          0.03213215,  0.03645244],\n",
              "        [-0.0391117 , -0.0136885 , -0.0331692 ,  0.01438682,\n",
              "          0.02848149,  0.01598347,  0.02271464, -0.02674228,\n",
              "         -0.00649147, -0.00455753],\n",
              "        [ 0.03240097, -0.0188809 ,  0.01621786, -0.00030852,\n",
              "          0.0228207 ,  0.02983895, -0.03101623,  0.02212689,\n",
              "          0.03905541,  0.01168663],\n",
              "        [ 0.02258931, -0.03994314,  0.01420352,  0.0053426 ,\n",
              "          0.01334888,  0.02834562, -0.01016339,  0.04225079,\n",
              "         -0.04176346, -0.01209972],\n",
              "        [ 0.00873498, -0.01910016, -0.04258103, -0.03389509,\n",
              "         -0.0482178 , -0.02640568,  0.04517995, -0.00812612,\n",
              "         -0.04574975,  0.01475847],\n",
              "        [ 0.04688099, -0.02257096, -0.03671831,  0.04836065,\n",
              "         -0.02783197,  0.03051798,  0.03285216, -0.00851868,\n",
              "         -0.03940694, -0.01550549]],\n",
              "\n",
              "       [[ 0.0137111 , -0.04985014, -0.01245616, -0.04843792,\n",
              "          0.03277585,  0.00911633, -0.04752873, -0.0098277 ,\n",
              "          0.03213215,  0.03645244],\n",
              "        [ 0.0137111 , -0.04985014, -0.01245616, -0.04843792,\n",
              "          0.03277585,  0.00911633, -0.04752873, -0.0098277 ,\n",
              "          0.03213215,  0.03645244],\n",
              "        [ 0.0137111 , -0.04985014, -0.01245616, -0.04843792,\n",
              "          0.03277585,  0.00911633, -0.04752873, -0.0098277 ,\n",
              "          0.03213215,  0.03645244],\n",
              "        [-0.0391117 , -0.0136885 , -0.0331692 ,  0.01438682,\n",
              "          0.02848149,  0.01598347,  0.02271464, -0.02674228,\n",
              "         -0.00649147, -0.00455753],\n",
              "        [ 0.03240097, -0.0188809 ,  0.01621786, -0.00030852,\n",
              "          0.0228207 ,  0.02983895, -0.03101623,  0.02212689,\n",
              "          0.03905541,  0.01168663],\n",
              "        [ 0.02258931, -0.03994314,  0.01420352,  0.0053426 ,\n",
              "          0.01334888,  0.02834562, -0.01016339,  0.04225079,\n",
              "         -0.04176346, -0.01209972],\n",
              "        [ 0.00873498, -0.01910016, -0.04258103, -0.03389509,\n",
              "         -0.0482178 , -0.02640568,  0.04517995, -0.00812612,\n",
              "         -0.04574975,  0.01475847],\n",
              "        [-0.00807474,  0.01863657, -0.00961329,  0.00611432,\n",
              "         -0.02789736,  0.03463837,  0.04832413,  0.02760688,\n",
              "          0.02984894,  0.02390596]],\n",
              "\n",
              "       [[ 0.0137111 , -0.04985014, -0.01245616, -0.04843792,\n",
              "          0.03277585,  0.00911633, -0.04752873, -0.0098277 ,\n",
              "          0.03213215,  0.03645244],\n",
              "        [ 0.0137111 , -0.04985014, -0.01245616, -0.04843792,\n",
              "          0.03277585,  0.00911633, -0.04752873, -0.0098277 ,\n",
              "          0.03213215,  0.03645244],\n",
              "        [ 0.0137111 , -0.04985014, -0.01245616, -0.04843792,\n",
              "          0.03277585,  0.00911633, -0.04752873, -0.0098277 ,\n",
              "          0.03213215,  0.03645244],\n",
              "        [ 0.00223507,  0.04579054, -0.03617929, -0.0083722 ,\n",
              "          0.0417194 ,  0.03958349, -0.0155849 , -0.03655499,\n",
              "          0.02172266,  0.01231512],\n",
              "        [ 0.0343903 ,  0.02322705,  0.04104709, -0.04440302,\n",
              "         -0.03558799, -0.00746635, -0.00781729, -0.04764522,\n",
              "          0.03636858, -0.01888352],\n",
              "        [-0.01570723,  0.04277721,  0.01782146, -0.00872617,\n",
              "          0.00942334, -0.04888111,  0.00648614,  0.02078453,\n",
              "         -0.03918247, -0.00040063],\n",
              "        [-0.0053219 , -0.0219555 , -0.0458238 , -0.03767868,\n",
              "          0.02272347, -0.04596689, -0.01097465,  0.04035309,\n",
              "          0.00307038,  0.00175681],\n",
              "        [-0.04009007, -0.01544609, -0.00944061, -0.04844714,\n",
              "         -0.04363617, -0.03833457,  0.04815822,  0.03505734,\n",
              "          0.00933467,  0.02243674]],\n",
              "\n",
              "       [[ 0.0137111 , -0.04985014, -0.01245616, -0.04843792,\n",
              "          0.03277585,  0.00911633, -0.04752873, -0.0098277 ,\n",
              "          0.03213215,  0.03645244],\n",
              "        [ 0.0137111 , -0.04985014, -0.01245616, -0.04843792,\n",
              "          0.03277585,  0.00911633, -0.04752873, -0.0098277 ,\n",
              "          0.03213215,  0.03645244],\n",
              "        [ 0.0137111 , -0.04985014, -0.01245616, -0.04843792,\n",
              "          0.03277585,  0.00911633, -0.04752873, -0.0098277 ,\n",
              "          0.03213215,  0.03645244],\n",
              "        [ 0.0137111 , -0.04985014, -0.01245616, -0.04843792,\n",
              "          0.03277585,  0.00911633, -0.04752873, -0.0098277 ,\n",
              "          0.03213215,  0.03645244],\n",
              "        [-0.00251462,  0.04310096, -0.00023536,  0.02314352,\n",
              "          0.01288011,  0.04040759,  0.04304895, -0.04140246,\n",
              "         -0.0433768 , -0.04889058],\n",
              "        [ 0.02478311, -0.01141042,  0.02177112,  0.01390436,\n",
              "          0.00578094, -0.03675247, -0.0341293 , -0.02511194,\n",
              "          0.01249927,  0.03673155],\n",
              "        [-0.04070172,  0.03345705,  0.0340411 ,  0.04538227,\n",
              "         -0.0148445 ,  0.02962543,  0.02710303,  0.00080122,\n",
              "          0.01808878,  0.02785052],\n",
              "        [ 0.00873498, -0.01910016, -0.04258103, -0.03389509,\n",
              "         -0.0482178 , -0.02640568,  0.04517995, -0.00812612,\n",
              "         -0.04574975,  0.01475847]]], dtype=float32)"
            ]
          },
          "metadata": {},
          "execution_count": 17
        }
      ]
    },
    {
      "cell_type": "code",
      "source": [
        "model.predict(embedded_docs[0])"
      ],
      "metadata": {
        "colab": {
          "base_uri": "https://localhost:8080/",
          "height": 425
        },
        "id": "WW25-NS8w-Ap",
        "outputId": "281885f4-c947-4624-c785-a689dfeeb183"
      },
      "execution_count": 20,
      "outputs": [
        {
          "output_type": "error",
          "ename": "ValueError",
          "evalue": "Exception encountered when calling Sequential.call().\n\n\u001b[1mCannot take the length of shape with unknown rank.\u001b[0m\n\nArguments received by Sequential.call():\n  • inputs=tf.Tensor(shape=<unknown>, dtype=int32)\n  • training=False\n  • mask=None",
          "traceback": [
            "\u001b[0;31m---------------------------------------------------------------------------\u001b[0m",
            "\u001b[0;31mValueError\u001b[0m                                Traceback (most recent call last)",
            "\u001b[0;32m<ipython-input-20-b7f9362bbd13>\u001b[0m in \u001b[0;36m<cell line: 0>\u001b[0;34m()\u001b[0m\n\u001b[0;32m----> 1\u001b[0;31m \u001b[0mmodel\u001b[0m\u001b[0;34m.\u001b[0m\u001b[0mpredict\u001b[0m\u001b[0;34m(\u001b[0m\u001b[0membedded_docs\u001b[0m\u001b[0;34m[\u001b[0m\u001b[0;36m0\u001b[0m\u001b[0;34m]\u001b[0m\u001b[0;34m)\u001b[0m\u001b[0;34m\u001b[0m\u001b[0;34m\u001b[0m\u001b[0m\n\u001b[0m",
            "\u001b[0;32m/usr/local/lib/python3.11/dist-packages/keras/src/utils/traceback_utils.py\u001b[0m in \u001b[0;36merror_handler\u001b[0;34m(*args, **kwargs)\u001b[0m\n\u001b[1;32m    120\u001b[0m             \u001b[0;31m# To get the full stack trace, call:\u001b[0m\u001b[0;34m\u001b[0m\u001b[0;34m\u001b[0m\u001b[0m\n\u001b[1;32m    121\u001b[0m             \u001b[0;31m# `keras.config.disable_traceback_filtering()`\u001b[0m\u001b[0;34m\u001b[0m\u001b[0;34m\u001b[0m\u001b[0m\n\u001b[0;32m--> 122\u001b[0;31m             \u001b[0;32mraise\u001b[0m \u001b[0me\u001b[0m\u001b[0;34m.\u001b[0m\u001b[0mwith_traceback\u001b[0m\u001b[0;34m(\u001b[0m\u001b[0mfiltered_tb\u001b[0m\u001b[0;34m)\u001b[0m \u001b[0;32mfrom\u001b[0m \u001b[0;32mNone\u001b[0m\u001b[0;34m\u001b[0m\u001b[0;34m\u001b[0m\u001b[0m\n\u001b[0m\u001b[1;32m    123\u001b[0m         \u001b[0;32mfinally\u001b[0m\u001b[0;34m:\u001b[0m\u001b[0;34m\u001b[0m\u001b[0;34m\u001b[0m\u001b[0m\n\u001b[1;32m    124\u001b[0m             \u001b[0;32mdel\u001b[0m \u001b[0mfiltered_tb\u001b[0m\u001b[0;34m\u001b[0m\u001b[0;34m\u001b[0m\u001b[0m\n",
            "\u001b[0;32m/usr/local/lib/python3.11/dist-packages/keras/src/utils/traceback_utils.py\u001b[0m in \u001b[0;36merror_handler\u001b[0;34m(*args, **kwargs)\u001b[0m\n\u001b[1;32m    122\u001b[0m             \u001b[0;32mraise\u001b[0m \u001b[0me\u001b[0m\u001b[0;34m.\u001b[0m\u001b[0mwith_traceback\u001b[0m\u001b[0;34m(\u001b[0m\u001b[0mfiltered_tb\u001b[0m\u001b[0;34m)\u001b[0m \u001b[0;32mfrom\u001b[0m \u001b[0;32mNone\u001b[0m\u001b[0;34m\u001b[0m\u001b[0;34m\u001b[0m\u001b[0m\n\u001b[1;32m    123\u001b[0m         \u001b[0;32mfinally\u001b[0m\u001b[0;34m:\u001b[0m\u001b[0;34m\u001b[0m\u001b[0;34m\u001b[0m\u001b[0m\n\u001b[0;32m--> 124\u001b[0;31m             \u001b[0;32mdel\u001b[0m \u001b[0mfiltered_tb\u001b[0m\u001b[0;34m\u001b[0m\u001b[0;34m\u001b[0m\u001b[0m\n\u001b[0m\u001b[1;32m    125\u001b[0m \u001b[0;34m\u001b[0m\u001b[0m\n\u001b[1;32m    126\u001b[0m     \u001b[0;32mreturn\u001b[0m \u001b[0merror_handler\u001b[0m\u001b[0;34m\u001b[0m\u001b[0;34m\u001b[0m\u001b[0m\n",
            "\u001b[0;31mValueError\u001b[0m: Exception encountered when calling Sequential.call().\n\n\u001b[1mCannot take the length of shape with unknown rank.\u001b[0m\n\nArguments received by Sequential.call():\n  • inputs=tf.Tensor(shape=<unknown>, dtype=int32)\n  • training=False\n  • mask=None"
          ]
        }
      ]
    },
    {
      "source": [
        "# Reshape the input to have 2 dimensions\n",
        "import numpy as np\n",
        "input_data = np.expand_dims(embedded_docs[0], axis=0)  # Add a batch dimension\n",
        "\n",
        "# Now, make the prediction\n",
        "predictions = model.predict(input_data)"
      ],
      "cell_type": "code",
      "metadata": {
        "colab": {
          "base_uri": "https://localhost:8080/"
        },
        "id": "G_0MnF1yxsq_",
        "outputId": "f2583a77-53cb-4782-943a-760b46c976b9"
      },
      "execution_count": 21,
      "outputs": [
        {
          "output_type": "stream",
          "name": "stdout",
          "text": [
            "\u001b[1m1/1\u001b[0m \u001b[32m━━━━━━━━━━━━━━━━━━━━\u001b[0m\u001b[37m\u001b[0m \u001b[1m0s\u001b[0m 66ms/step\n"
          ]
        }
      ]
    },
    {
      "cell_type": "code",
      "source": [],
      "metadata": {
        "id": "3dljwMgMxWHw"
      },
      "execution_count": null,
      "outputs": []
    }
  ]
}